{
 "cells": [
  {
   "cell_type": "code",
   "execution_count": null,
   "metadata": {},
   "outputs": [
    {
     "ename": "ModuleNotFoundError",
     "evalue": "No module named 'folium'",
     "output_type": "error",
     "traceback": [
      "\u001b[1;31m---------------------------------------------------------------------------\u001b[0m",
      "\u001b[1;31mModuleNotFoundError\u001b[0m                       Traceback (most recent call last)",
      "Cell \u001b[1;32mIn[2], line 4\u001b[0m\n\u001b[0;32m      1\u001b[0m \u001b[38;5;28;01mfrom\u001b[39;00m \u001b[38;5;21;01mtyping\u001b[39;00m \u001b[38;5;28;01mimport\u001b[39;00m Tuple, List, Dict\n\u001b[0;32m      3\u001b[0m \u001b[38;5;28;01mimport\u001b[39;00m \u001b[38;5;21;01mpandas\u001b[39;00m \u001b[38;5;28;01mas\u001b[39;00m \u001b[38;5;21;01mpd\u001b[39;00m\n\u001b[1;32m----> 4\u001b[0m \u001b[38;5;28;01mimport\u001b[39;00m \u001b[38;5;21;01mfolium\u001b[39;00m\n\u001b[0;32m      5\u001b[0m python \u001b[38;5;241m-\u001b[39m\u001b[38;5;241m-\u001b[39mpath\n\u001b[0;32m      7\u001b[0m pd\u001b[38;5;241m.\u001b[39mset_option(\u001b[38;5;124m'\u001b[39m\u001b[38;5;124mdisplay.precision\u001b[39m\u001b[38;5;124m'\u001b[39m, \u001b[38;5;241m2\u001b[39m)\n",
      "\u001b[1;31mModuleNotFoundError\u001b[0m: No module named 'folium'"
     ]
    }
   ],
   "source": [
    "from typing import Tuple, List, Dict\n",
    "\n",
    "import pandas as pd\n",
    "import folium\n",
    "python --path\n",
    "\n",
    "pd.set_option('display.precision', 2)\n",
    "\n",
    "\n",
    "df_sites = pd.DataFrame(\n",
    "    [['hotel',              48.8527, 2.3542],\n",
    "     ['Sacre Coeur',        48.8867, 2.3431],\n",
    "     ['Louvre',             48.8607, 2.3376],\n",
    "     ['Montmartre',         48.8872, 2.3388],\n",
    "     ['Port de Suffren',    48.8577, 2.2902],\n",
    "     ['Arc de Triomphe',    48.8739, 2.2950],\n",
    "     ['Av. Champs Élysées', 48.8710, 2.3036],\n",
    "     ['Notre Dame',         48.8531, 2.3498],\n",
    "     ['Tour Eiffel',        48.8585, 2.2945]],\n",
    "    columns=pd.Index(['site', 'latitude', 'longitude'], name='paris')\n",
    ")\n",
    "\n",
    "df_sites"
   ]
  }
 ],
 "metadata": {
  "kernelspec": {
   "display_name": "Python 3",
   "language": "python",
   "name": "python3"
  },
  "language_info": {
   "codemirror_mode": {
    "name": "ipython",
    "version": 3
   },
   "file_extension": ".py",
   "mimetype": "text/x-python",
   "name": "python",
   "nbconvert_exporter": "python",
   "pygments_lexer": "ipython3",
   "version": "3.9.13"
  }
 },
 "nbformat": 4,
 "nbformat_minor": 2
}
