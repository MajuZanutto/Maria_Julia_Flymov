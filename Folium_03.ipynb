{
 "cells": [
  {
   "cell_type": "code",
   "execution_count": 11,
   "metadata": {},
   "outputs": [],
   "source": [
    "import folium\n",
    "from folium.plugins import MiniMap\n",
    "import pandas as pd\n",
    "import plotly.graph_objects as go\n",
    "from plotly.subplots import make_subplots\n",
    "\n",
    "# Read the CSV file containing EVTOL charging stations\n",
    "df = pd.read_csv('charging_station.csv')\n",
    "\n",
    "# Create a map centered on the average latitude and longitude of all stations\n",
    "avg_lat = df['Latitude'].mean()\n",
    "avg_lon = df['Longitude'].mean()\n",
    "\n",
    "m = folium.Map(location=[avg_lat, avg_lon], zoom_start=12)\n",
    "\n",
    "# Crie um mapa centrado na região desejada\n",
    "#m = folium.Map(location=[-40, -20], zoom_start=12)\n",
    "\n",
    "# Adicione um mini-mapa\n",
    "MiniMap().add_to(m)\n",
    "\n",
    "# Dicionário com dados dos pontos de recarga\n",
    "pontos_recarga = {\n",
    "    \"Ponto 1\": {\"coordenadas\": (-23.5432, -46.6358),\n",
    "                \"permanência\": \"30 minutos\",\n",
    "                \"duração_rota\": \"15 minutos\"},\n",
    "    \"Ponto 2\": {\"coordenadas\": (-23.5678, -46.6523),\n",
    "                \"permanência\": \"45 minutos\",\n",
    "                \"duração_rota\": \"20 minutos\"}\n",
    "}\n",
    "\n",
    "# Adicione os pontos ao mapa com pop-ups informativos\n",
    "for nome, dados in pontos_recarga.items():\n",
    "    folium.Marker(\n",
    "        location=dados['coordenadas'],\n",
    "        popup=f\"<strong>{nome}</strong><br>Permanência: {dados['permanência']}<br>Duração da rota: {dados['duração_rota']}\",\n",
    "        icon=folium.Icon(color='blue')\n",
    "    ).add_to(m)\n",
    "\n",
    "# Salve o mapa como um arquivo HTML\n",
    "m.save('mapa_pontos_recarga.html')\n",
    "\n",
    "\n"
   ]
  }
 ],
 "metadata": {
  "kernelspec": {
   "display_name": "Python 3",
   "language": "python",
   "name": "python3"
  },
  "language_info": {
   "codemirror_mode": {
    "name": "ipython",
    "version": 3
   },
   "file_extension": ".py",
   "mimetype": "text/x-python",
   "name": "python",
   "nbconvert_exporter": "python",
   "pygments_lexer": "ipython3",
   "version": "3.9.13"
  }
 },
 "nbformat": 4,
 "nbformat_minor": 2
}
